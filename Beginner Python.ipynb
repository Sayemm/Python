{
 "cells": [
  {
   "cell_type": "markdown",
   "metadata": {},
   "source": [
    "# taking input"
   ]
  },
  {
   "cell_type": "code",
   "execution_count": 1,
   "metadata": {},
   "outputs": [
    {
     "name": "stdout",
     "output_type": "stream",
     "text": [
      "Case : 1\n"
     ]
    }
   ],
   "source": [
    "one = 1\n",
    "# line = input()\n",
    "# x = int(input())\n",
    "# s = str(input())\n",
    "# f = float(input())\n",
    "# name = input('USER NAME : ')\n",
    "# a, b = map(int, input().split())\n",
    "print(f'Case : {one}')"
   ]
  },
  {
   "cell_type": "markdown",
   "metadata": {},
   "source": [
    "# Variable Assignment"
   ]
  },
  {
   "cell_type": "code",
   "execution_count": 2,
   "metadata": {},
   "outputs": [
    {
     "name": "stdout",
     "output_type": "stream",
     "text": [
      "2.1666666666666665\n",
      "2\n",
      "8\n",
      "0 1 2 3 4 5 6 7 8 9 55\n",
      "66\n"
     ]
    }
   ],
   "source": [
    "# Dynamic Typing\n",
    "# Reassign Variables of Different Data Types\n",
    "\n",
    "a = 13\n",
    "b = 6\n",
    "\n",
    "print(a/b)\n",
    "print(a//b)\n",
    "print(2**3)\n",
    "\n",
    "for i in range(10): print(i, end = \" \") #defautl end = \"\\n\"\n",
    "print(55)\n",
    "print(66)"
   ]
  },
  {
   "cell_type": "markdown",
   "metadata": {},
   "source": [
    "# Strings"
   ]
  },
  {
   "cell_type": "code",
   "execution_count": null,
   "metadata": {},
   "outputs": [],
   "source": [
    "#immutability (s[0] = 'c' not possible)\n",
    "\n",
    "# h  e  l  l  o\n",
    "# 0  1  2  3  4\n",
    "# 0 -4 -3 -2 -1\n",
    "\n",
    "s = 'Sayem\"s'\n",
    "s = \"Sayem's\"\n",
    "s = 'working string'\n",
    "\n",
    "len(s)\n",
    "\n",
    "s[0] # s[start : end : step]\n",
    "s[2:]\n",
    "s[:3]\n",
    "s[2:4]\n",
    "s[::-1] #reverse string\n",
    "\n",
    "s = s*10\n",
    "s = 'a'*10\n",
    "\n",
    "x = 'ab'\n",
    "y = 'cd'\n",
    "\n",
    "s = x+y\n",
    "\n",
    "for c in s: print(c)\n",
    "\n",
    "s = 'Sayem\\nVai' \n",
    "s = 'Sayem\\\\Vai' #Sayem\\Vai\n",
    "s = 'Sayem Vai'\n",
    "\n",
    "s.capitalize()\n",
    "s.upper()\n",
    "s.lower()\n",
    "s[0].isupper()\n",
    "s[0].islower()\n",
    "s.split(' ') #return a list\n",
    "s.lower().split()\n",
    "s.split()[0]\n",
    "s.startswith('ba')\n",
    "\n",
    "l = ['a', 'b', 'c']\n",
    "'kk'.join(l) #akkbkkc\n",
    "\n",
    "import string\n",
    "a = string.ascii_lowercase\n",
    "a = string.ascii_uppercase\n",
    "\n",
    "\n",
    "a = 'x\\ny'\n",
    "print(len(a)) #333333333333!\n",
    "\n",
    "dir(s) #all method in class str\n",
    "\n",
    "s = \"banana\"\n",
    "x = '    xx xxxxxxx     '\n",
    "\n",
    "if 'n' in s: print('yes')\n",
    "if 'na' in s: print('yes')\n",
    "\n",
    "pos = s.find('a') #first position of a\n",
    "pos = s.find('an')\n",
    "pos = s.find('a', 1) #first position from 1\n",
    "\n",
    "s.replace('a', 'X')\n",
    "x.strip()\n",
    "x.lstrip()\n",
    "x.rstrip()"
   ]
  },
  {
   "cell_type": "markdown",
   "metadata": {},
   "source": [
    "# format"
   ]
  },
  {
   "cell_type": "code",
   "execution_count": 4,
   "metadata": {},
   "outputs": [
    {
     "name": "stdout",
     "output_type": "stream",
     "text": [
      "the answer is 100.5452143\n",
      "the answer is 100.5452143\n"
     ]
    },
    {
     "data": {
      "text/plain": [
       "' 100.54521'"
      ]
     },
     "execution_count": 4,
     "metadata": {},
     "output_type": "execute_result"
    }
   ],
   "source": [
    "'sayem {} {}'.format('onek', 'valo')\n",
    "'sayem {1} {0}'.format('valo', 'onek')\n",
    "'sayem {o} {v}'.format(o = 'onek', v = 'valo')\n",
    "\n",
    "num = 100.5452143\n",
    "print('the answer is {}'.format(num))\n",
    "print(f'the answer is {num}')\n",
    "\n",
    "'{r:10.5f}'.format(r = num) #'{value : width.precision f}' width = total length of the number"
   ]
  },
  {
   "cell_type": "markdown",
   "metadata": {},
   "source": [
    "# list "
   ]
  },
  {
   "cell_type": "code",
   "execution_count": 5,
   "metadata": {
    "scrolled": false
   },
   "outputs": [
    {
     "name": "stdout",
     "output_type": "stream",
     "text": [
      "1\n",
      "2\n",
      "3\n",
      "1\n",
      "2\n",
      "YES\n",
      "NO\n",
      "9 2\n",
      "5 6\n",
      "5 6\n",
      "9 2\n"
     ]
    }
   ],
   "source": [
    "# (like array in c++ and string in python)\n",
    "#not immutable l[0] = 6 possible\n",
    "#l = list() -> []\n",
    "#d = dict() -> {}\n",
    "\n",
    "a = [1, 2, 3, 'Sayem', 23.6]\n",
    "a = [1, 2, 3]\n",
    "b = [7, 2, 9]\n",
    "\n",
    "len(a)\n",
    "sum(a)\n",
    "max(a)\n",
    "min(a)\n",
    "\n",
    "a = a+b\n",
    "\n",
    "a.append(8)\n",
    "a.pop() #of course from last\n",
    "x = a.pop()\n",
    "a.pop(0)\n",
    "\n",
    "a.reverse() #just reverse not sort\n",
    "a.sort() #sort and assigned to a\n",
    "a.sort(reverse = True)\n",
    "x = sorted(a) #sort but not assigned to a\n",
    "x = sorted(a, reverse = True)\n",
    "\n",
    "a[0:2] = [] #delete index 0->1\n",
    "a[:] = [] #all delete\n",
    "\n",
    "a = [1, 2, 3]\n",
    "for num in a: print(num)\n",
    "for num in a[:2]: print(num)\n",
    "    \n",
    "if 1 in a: print('YES')\n",
    "if 6 not in a: print('NO')\n",
    "    \n",
    "l = [(9, 2), (5, 6)]\n",
    "for x, y in l: print(x, y)\n",
    "    \n",
    "l.sort(key = lambda x: x[0])\n",
    "l = sorted(l, key = lambda x: x[0])\n",
    "for x, y in l: print(x, y)\n",
    "\n",
    "a = [1, 2, 3]\n",
    "x, y, z = a #must be equal to len(a)"
   ]
  },
  {
   "cell_type": "markdown",
   "metadata": {},
   "source": [
    "# list comprehension"
   ]
  },
  {
   "cell_type": "code",
   "execution_count": 6,
   "metadata": {},
   "outputs": [
    {
     "data": {
      "text/plain": [
       "[0, 1, 2, 3, 4]"
      ]
     },
     "execution_count": 6,
     "metadata": {},
     "output_type": "execute_result"
    }
   ],
   "source": [
    "s = 'hello'\n",
    "l = [i for i in s]\n",
    "l = [i for i in range(5)]\n",
    "l = [i*i for i in range(5)]\n",
    "\n",
    "cel = [1, 2, 3]\n",
    "far = [((9/5)*t+32) for t in cel]\n",
    "\n",
    "l = [i for i in range(10) if i%2==0]\n",
    "l = [i if i%2==0 else 'odd' for i in range(10)]\n",
    "\n",
    "nested = [(x, y) for x in range(5) for y in range(5)]\n",
    "\n",
    "l = range(5) #range\n",
    "\n",
    "l = list(range(5)) #list\n",
    "l = [num for num in range(5)]\n",
    "\n",
    "l"
   ]
  },
  {
   "cell_type": "markdown",
   "metadata": {},
   "source": [
    "# dictionaries"
   ]
  },
  {
   "cell_type": "code",
   "execution_count": 7,
   "metadata": {},
   "outputs": [
    {
     "name": "stdout",
     "output_type": "stream",
     "text": [
      "6\n",
      "1\n",
      "1\n",
      "dd\n",
      "l\n",
      "add\n",
      "6 96\n",
      "1 sayed\n",
      "1 sayem\n",
      "dd {'k1': 105}\n",
      "l [1, 2, 3]\n",
      "add adding\n",
      "1 24\n",
      "6 96\n",
      "7 4\n",
      "7 4\n",
      "6 96\n",
      "1 24\n",
      "7 4\n",
      "1 24\n",
      "6 96\n",
      "YES\n",
      "YES\n"
     ]
    },
    {
     "data": {
      "text/plain": [
       "0"
      ]
     },
     "execution_count": 7,
     "metadata": {},
     "output_type": "execute_result"
    }
   ],
   "source": [
    "# (Like map in c++)\n",
    "# key : value\n",
    "\n",
    "d = {6: 96,\n",
    "     1: 'sayed',\n",
    "     '1': 'sayem',\n",
    "     'dd': {'k1': 105},\n",
    "     'l' : [1, 2, 3]}\n",
    "\n",
    "d['add'] = 'adding'\n",
    "d[1]\n",
    "d['1']\n",
    "d['l']\n",
    "d['l'][0]\n",
    "d['dd']['k1']\n",
    "\n",
    "d.keys()\n",
    "list(d.keys())\n",
    "d.values()\n",
    "d.items() #list of tuples\n",
    "\n",
    "for k in d: print(k) #only key\n",
    "for k, v in d.items(): print(k, v)\n",
    "    \n",
    "d = {6: 96,\n",
    "     1: 24,\n",
    "     7: 4}\n",
    "for k, v in sorted(d.items()): print(k, v) #sort as per keys\n",
    "for k, v in sorted(d.items(), reverse = True): print(k, v)\n",
    "    \n",
    "for k, v in sorted(d.items(), key = lambda x:x[1]): print(k, v) #sort as per values\n",
    "\n",
    "if 6 in d.keys(): print('YES')\n",
    "if 4 in d.values(): print('YES')\n",
    "    \n",
    "a = 'dabcd'\n",
    "b = set(a) #{'a', 'b', 'c', 'd'}\n",
    "\n",
    "# d['add'] ->KeyError\n",
    "count = d.get('add', 0) #no key 'add' so count = 0 if exit then value would add with 0\n",
    "count"
   ]
  },
  {
   "cell_type": "markdown",
   "metadata": {},
   "source": [
    "# tuples"
   ]
  },
  {
   "cell_type": "code",
   "execution_count": 8,
   "metadata": {},
   "outputs": [
    {
     "data": {
      "text/plain": [
       "1"
      ]
     },
     "execution_count": 8,
     "metadata": {},
     "output_type": "execute_result"
    }
   ],
   "source": [
    "#immutability\n",
    "\n",
    "t = (1, 2, 2, 3, 4)\n",
    "len(t)\n",
    "\n",
    "t[0]\n",
    "t[-1]\n",
    "t.count(2)\n",
    "t.index(2) #first index"
   ]
  },
  {
   "cell_type": "markdown",
   "metadata": {},
   "source": [
    "# sets "
   ]
  },
  {
   "cell_type": "code",
   "execution_count": 9,
   "metadata": {},
   "outputs": [
    {
     "name": "stdout",
     "output_type": "stream",
     "text": [
      "YES\n"
     ]
    }
   ],
   "source": [
    "# (unordered collection of unique elemets)\n",
    "\n",
    "s = {4, 1, 6}\n",
    "\n",
    "s.add(1)\n",
    "\n",
    "if 1 in s: print(\"YES\")"
   ]
  },
  {
   "cell_type": "markdown",
   "metadata": {},
   "source": [
    "# booleans"
   ]
  },
  {
   "cell_type": "code",
   "execution_count": 10,
   "metadata": {},
   "outputs": [],
   "source": [
    "flag = True\n",
    "flag = False\n",
    "flag = None\n",
    "\n",
    "flag"
   ]
  },
  {
   "cell_type": "markdown",
   "metadata": {},
   "source": [
    "# comparison operators"
   ]
  },
  {
   "cell_type": "code",
   "execution_count": 11,
   "metadata": {},
   "outputs": [
    {
     "data": {
      "text/plain": [
       "True"
      ]
     },
     "execution_count": 11,
     "metadata": {},
     "output_type": "execute_result"
    }
   ],
   "source": [
    "a = 5\n",
    "b = 6\n",
    "\n",
    "a==b\n",
    "a!=b\n",
    "a>b\n",
    "a>b\n",
    "a>=b\n",
    "a<=b\n",
    "\n",
    "#logical operators\n",
    "\n",
    "a < b < 7 # (a<b and b<7)\n",
    "(a==b or a!=b)\n",
    "not a>b"
   ]
  },
  {
   "cell_type": "markdown",
   "metadata": {},
   "source": [
    "# conditional (if/elif/else)"
   ]
  },
  {
   "cell_type": "code",
   "execution_count": 12,
   "metadata": {},
   "outputs": [
    {
     "name": "stdout",
     "output_type": "stream",
     "text": [
      "YESSSS\n",
      "0\n",
      "1\n",
      "2\n",
      "3\n",
      "4\n",
      "NO\n",
      "1\n",
      "2\n",
      "3\n",
      "1\n",
      "3\n",
      "1\n"
     ]
    }
   ],
   "source": [
    "if a>b:\n",
    "    print('YES')\n",
    "elif a<b:\n",
    "    print('YESSSS')\n",
    "else:\n",
    "    print('NOOOO')\n",
    "    \n",
    "x = 0\n",
    "\n",
    "while(x<5):\n",
    "    print(x)\n",
    "    x += 1\n",
    "else: print('NO')\n",
    "\n",
    "#continue: goes to the top of the closest enclosing loop\n",
    "#break   : breaks out of the current closest enclosing loop\n",
    "#pass    : does nothing at all\n",
    "\n",
    "l = [1, 2, 3]\n",
    "\n",
    "for i in l:\n",
    "    if i==2:\n",
    "        pass\n",
    "    print(i)\n",
    "    \n",
    "for i in l:\n",
    "    if i==2:\n",
    "        continue\n",
    "    print(i)\n",
    "    \n",
    "for i in l:\n",
    "    if i==2:\n",
    "        break\n",
    "    print(i)"
   ]
  },
  {
   "cell_type": "markdown",
   "metadata": {},
   "source": [
    "# loops"
   ]
  },
  {
   "cell_type": "code",
   "execution_count": 13,
   "metadata": {},
   "outputs": [
    {
     "name": "stdout",
     "output_type": "stream",
     "text": [
      "4\n",
      "6\n",
      "8\n"
     ]
    }
   ],
   "source": [
    "# for i in range(10): print(i)\n",
    "# for i in range(4, 10): print(i)\n",
    "for i in range(4, 10, 2): print(i)"
   ]
  },
  {
   "cell_type": "markdown",
   "metadata": {},
   "source": [
    "# enumerate"
   ]
  },
  {
   "cell_type": "code",
   "execution_count": 14,
   "metadata": {
    "scrolled": true
   },
   "outputs": [
    {
     "name": "stdout",
     "output_type": "stream",
     "text": [
      "(0, 's')\n",
      "(1, 'a')\n",
      "(2, 'y')\n",
      "(3, 'e')\n",
      "(4, 'm')\n",
      "0 s\n",
      "1 a\n",
      "2 y\n",
      "3 e\n",
      "4 m\n"
     ]
    }
   ],
   "source": [
    "s = 'sayem'\n",
    "\n",
    "for i in enumerate(s):\n",
    "    print(i)\n",
    "\n",
    "for indx, c in enumerate(s):\n",
    "    print(indx, c)"
   ]
  },
  {
   "cell_type": "markdown",
   "metadata": {},
   "source": [
    "# zip"
   ]
  },
  {
   "cell_type": "code",
   "execution_count": 15,
   "metadata": {
    "scrolled": true
   },
   "outputs": [
    {
     "name": "stdout",
     "output_type": "stream",
     "text": [
      "(1, 'a', 6)\n",
      "(2, 5, 7)\n",
      "1 a 6\n",
      "2 5 7\n"
     ]
    },
    {
     "data": {
      "text/plain": [
       "[(1, 'a', 6), (2, 5, 7)]"
      ]
     },
     "execution_count": 15,
     "metadata": {},
     "output_type": "execute_result"
    }
   ],
   "source": [
    "a1 = [1, 2, 3]\n",
    "a2 = ['a', 5]\n",
    "a3 = [6, 7]\n",
    "\n",
    "for i in zip(a1, a2, a3):\n",
    "    print(i) #tuples\n",
    "\n",
    "for x, y, z in zip(a1, a2, a3):\n",
    "    print(x, y, z)\n",
    "    \n",
    "l = list(zip(a1, a2, a3))\n",
    "l"
   ]
  },
  {
   "cell_type": "markdown",
   "metadata": {},
   "source": [
    "# random and shuffle"
   ]
  },
  {
   "cell_type": "code",
   "execution_count": 16,
   "metadata": {},
   "outputs": [
    {
     "data": {
      "text/plain": [
       "72"
      ]
     },
     "execution_count": 16,
     "metadata": {},
     "output_type": "execute_result"
    }
   ],
   "source": [
    "from random import shuffle\n",
    "from random import randint\n",
    "\n",
    "a = [1, 2, 3]\n",
    "shuffle(a)\n",
    "\n",
    "x = randint(10, 96) #(start, end)\n",
    "x"
   ]
  },
  {
   "cell_type": "markdown",
   "metadata": {},
   "source": [
    "# functions"
   ]
  },
  {
   "cell_type": "code",
   "execution_count": 17,
   "metadata": {},
   "outputs": [
    {
     "name": "stdout",
     "output_type": "stream",
     "text": [
      "(1, 2, 3, 4)\n",
      "(3, 4)\n",
      "(1, 2, 3)\n",
      "sayem\n",
      "1 sayed\n"
     ]
    }
   ],
   "source": [
    "#tuple <- *args (arguments)\n",
    "#dictionary <- **kwargs (keyword arguments)\n",
    "\n",
    "def sum(a, b, c = 2):\n",
    "    return a+b+c\n",
    "\n",
    "sum(1, 2, 3)\n",
    "sum(1, 2)\n",
    "\n",
    "#=====================================================#\n",
    "\n",
    "def sm(*b): #tuple create (flexible number of arguments)\n",
    "    print(b)\n",
    "    ans = 0\n",
    "    for i in b: ans += i\n",
    "    return ans\n",
    "\n",
    "a = [1, 2, 3]\n",
    "\n",
    "sm(1, 2, 3, 4)\n",
    "sm(3, 4)\n",
    "sm(*a) #unpacking arguments\n",
    "\n",
    "#=====================================================#\n",
    "\n",
    "def func(**dc):\n",
    "#     for k, v in a: print(k, v)\n",
    "    print(dc['k'])\n",
    "    \n",
    "func(k = 'sayem', l = 'kfjdk')\n",
    "\n",
    "#=====================================================#\n",
    "\n",
    "def fn(*a, **b):\n",
    "    print(a[0], b['l'])\n",
    "    \n",
    "fn(1, 2, 3, k = 'sayem', l = 'sayed')"
   ]
  },
  {
   "cell_type": "markdown",
   "metadata": {},
   "source": [
    "# lambda expression (map, filter)"
   ]
  },
  {
   "cell_type": "code",
   "execution_count": 18,
   "metadata": {},
   "outputs": [
    {
     "data": {
      "text/plain": [
       "[1, 3, 5]"
      ]
     },
     "execution_count": 18,
     "metadata": {},
     "output_type": "execute_result"
    }
   ],
   "source": [
    "l = [1, 2, 3, 4, 5, 6]\n",
    "\n",
    "def sq(n): return n*n\n",
    "sq = lambda x : x**2\n",
    "\n",
    "lst = list(map(sq, l))\n",
    "lst = list(map(lambda x: x**2, l))\n",
    "lst\n",
    "\n",
    "#lambda expression (filer)(True/False)\n",
    "def check(n): return n%2\n",
    "check = lambda x:x%2\n",
    "\n",
    "lst = list(filter(check, l))\n",
    "lst = list(filter(lambda x: x%2, l))\n",
    "lst"
   ]
  },
  {
   "cell_type": "markdown",
   "metadata": {},
   "source": [
    "# nested statement and scope"
   ]
  },
  {
   "cell_type": "code",
   "execution_count": 1,
   "metadata": {
    "scrolled": true
   },
   "outputs": [],
   "source": [
    "#LEGB (local, enclosing fucntion locals, global, built in python)\n",
    "\n",
    "# x = 50\n",
    "# def f():\n",
    "#     x = 200 #doesn't change global\n",
    "#     print(x)\n",
    "\n",
    "# f()\n",
    "# print(x)\n",
    "\n",
    "# x = 50\n",
    "# def f():\n",
    "#     global x\n",
    "#     x = 200 #change global x\n",
    "#     print(x)\n",
    "    \n",
    "# f()\n",
    "# print(x)\n",
    "\n",
    "x = 'global'\n",
    "def f():\n",
    "    x = 'enclosing'\n",
    "    def h():\n",
    "        x = 'local'\n",
    "        print(x)"
   ]
  },
  {
   "cell_type": "markdown",
   "metadata": {},
   "source": [
    "# file"
   ]
  },
  {
   "cell_type": "code",
   "execution_count": 45,
   "metadata": {},
   "outputs": [],
   "source": [
    "# r = read only                   w = write (overwrite and create)\n",
    "# a = append only                 w+ = writing and reading(overwrite and create)\n",
    "# r+ = reading and writing\n",
    "# handle = open(........) ->returs a handle which is used to manipulate the data\n",
    "# handle is not the data, it's just a way to get the data\n",
    "\n",
    "#================================================#\n",
    "fw = open('out.txt', 'w')\n",
    "fw.write('sayem')\n",
    "fw.close()\n",
    "\n",
    "with open('out.txt', mode = 'w') as fw:\n",
    "    fw.write('sayed')\n",
    "    \n",
    "#================================================#\n",
    "fr = open('in.txt', 'r')\n",
    "\n",
    "# s = fr.read() #full as a string\n",
    "# print(s)\n",
    "\n",
    "# lt = fr.readlines() #list of lines\n",
    "# print(lt)\n",
    "fr.close()\n",
    "\n",
    "# with open('in.txt', mode = 'r') as fr:\n",
    "# #     s = fr.read() #full as a string\n",
    "# #     print(s)\n",
    "\n",
    "#     lt = fr.readlines() #list of lines\n",
    "#     print(lt)\n",
    "    \n",
    "\n",
    "f = open('in.txt', 'r')\n",
    "\n",
    "# for sentence in f:\n",
    "# #     print(sentence) #extra new line for print #sayem\\n\n",
    "#                                                 #\\n -> for print\n",
    "#     print(sentence.strip()) #no extra\n",
    "    \n",
    "#================================================#\n",
    "with open('out.txt', mode = 'a') as f:\n",
    "    f.write('sayed') #sayemsayed\n",
    "    f.write('\\nsayed') #new line"
   ]
  },
  {
   "cell_type": "markdown",
   "metadata": {},
   "source": [
    "# Zulkarnine Mahmud-1 (file)"
   ]
  },
  {
   "cell_type": "code",
   "execution_count": 21,
   "metadata": {},
   "outputs": [
    {
     "name": "stdout",
     "output_type": "stream",
     "text": [
      "298\n",
      "201\n"
     ]
    }
   ],
   "source": [
    "with open('in.txt', 'r') as fr:\n",
    "    words = []\n",
    "    \n",
    "    for line in fr.readlines():\n",
    "        wl = line.strip().split(' ')\n",
    "        words += wl\n",
    "    \n",
    "    u_words = set(words)\n",
    "    print(len(words))\n",
    "    print(len(u_words))\n",
    "    \n",
    "    with open('out.txt', 'w') as fw:\n",
    "        for item in sorted(u_words):\n",
    "            fw.write(item)\n",
    "            fw.write('\\n')"
   ]
  },
  {
   "cell_type": "markdown",
   "metadata": {},
   "source": [
    "# Zulkarnine Mahmud-2 (generate prime number)"
   ]
  },
  {
   "cell_type": "code",
   "execution_count": 3,
   "metadata": {},
   "outputs": [
    {
     "name": "stdout",
     "output_type": "stream",
     "text": [
      "25\n",
      "1 2 3 5 7 11 13 17 19 23 "
     ]
    }
   ],
   "source": [
    "import math\n",
    "\n",
    "n = int(input())\n",
    "\n",
    "def is_prime(num):\n",
    "    for i in range(2, int(math.sqrt(num)+1)):\n",
    "        if num%i==0: return False\n",
    "    return True\n",
    "    \n",
    "for i in range(1, n+1):\n",
    "    if is_prime(i): print(i, end = \" \")\n",
    "        \n",
    "# dir(math)"
   ]
  },
  {
   "cell_type": "markdown",
   "metadata": {},
   "source": [
    "# Zulkarnine Mahmud-3 (OOP, Class, Object)"
   ]
  },
  {
   "cell_type": "code",
   "execution_count": 30,
   "metadata": {
    "scrolled": true
   },
   "outputs": [],
   "source": [
    "#has a -> attribute of the class\n",
    "#is a  -> subclass\n",
    "\n",
    "class person:\n",
    "    def __init__(self, name: str, birthday: int, ht = '6.5', hudai: int = None):  # self represent this class\n",
    "        self.__name = name\n",
    "        self.__bd = birthday #__ means private. (DATA ENCAPSULATION)\n",
    "        self.height = ht\n",
    "\n",
    "    def get_name(self):\n",
    "        return self.__name\n",
    "    def get_bd(self):\n",
    "        return self.__bd\n",
    "    def get_summary(self):\n",
    "        return f'Name: {self.__name}, DOB: {self.__bd}, Height: {self.height if self.height is not None else \"Invalid\"}'\n",
    "\n",
    "    def __has_number(self, st):\n",
    "        return '0' in st\n",
    "\n",
    "    def set_name(self, new_name):\n",
    "        if(self.__has_number(new_name)):\n",
    "            print('Sorry name cant have number')\n",
    "        else: self.__name = new_name\n"
   ]
  },
  {
   "cell_type": "code",
   "execution_count": 29,
   "metadata": {},
   "outputs": [
    {
     "name": "stdout",
     "output_type": "stream",
     "text": [
      "SAYEM\n",
      "Name: SAYEM, DOB: 1998, Height: 5'8\n",
      "Name: Sayem Vai, DOB: 1998, Height: 5'8\n",
      "Sorry name cant have number\n",
      "Sayem Vai\n"
     ]
    }
   ],
   "source": [
    "a_person = person('SAYEM', 1998, \"5'8\")\n",
    "\n",
    "print(a_person.get_name())\n",
    "print(a_person.get_summary())\n",
    "a_person.set_name('Sayem Vai')\n",
    "print(a_person.get_summary())\n",
    "\n",
    "a_person.set_name('0fkdjfkd')\n",
    "\n",
    "print(a_person.get_name())"
   ]
  },
  {
   "cell_type": "code",
   "execution_count": 47,
   "metadata": {},
   "outputs": [
    {
     "name": "stdout",
     "output_type": "stream",
     "text": [
      "Name: SAYEM, DOB: 1998, Height: 5.9\n",
      "Name: sayed, DOB: 1998, Height: 5.9\n",
      "Name: kk, DOB: 1998, Height: 5.9\n",
      "Name: janina, DOB: 1998, Height: 5.9\n"
     ]
    }
   ],
   "source": [
    "person_list = [\n",
    "    person('SAYEM', 1998, '5.9'),\n",
    "    person('sayed', 1998, '5.9'),\n",
    "    person('kk', 1998, '5.9'),\n",
    "    person('janina', 1998, '5.9')\n",
    "]\n",
    "\n",
    "for user in person_list:\n",
    "    if user.get_bd() >= 1998:\n",
    "        print(user.get_summary())"
   ]
  },
  {
   "cell_type": "markdown",
   "metadata": {},
   "source": [
    "# Inheritance"
   ]
  },
  {
   "cell_type": "code",
   "execution_count": 46,
   "metadata": {},
   "outputs": [
    {
     "name": "stdout",
     "output_type": "stream",
     "text": [
      "Name : a, Email : skfjkdj, Birth : 2000\n",
      "Name : sayem, Email : skfjkdj, Birth : 2000\n",
      "Name : sayem, Email : skfjkdj, Birth : 2000\n"
     ]
    }
   ],
   "source": [
    "class student(person): #INHERITANCE (student = subclass, person = superclass)\n",
    "    def __init__(self, name: str, birthday: int, email: str, student_id: str):\n",
    "        super().__init__(name, birthday)\n",
    "        self.id = student_id\n",
    "        self.email = email\n",
    "\n",
    "    def get_summary(self):#override super class method(polymorphism->method overriding(duck typing,operator/method overloading))\n",
    "        return f'Name : {self.get_name()}, Email : {self.email}, Birth : {self.get_bd()}'\n",
    "\n",
    "    def __str__(self):\n",
    "        return self.get_summary()\n",
    "    def __repr__(self): #helpful for debugging\n",
    "        return self.get_summary()\n",
    "\n",
    "\n",
    "st = student('a', 2000, 'skfjkdj', '24')\n",
    "\n",
    "print(st.get_summary())\n",
    "\n",
    "st.set_name('sayem')\n",
    "\n",
    "print(st.get_summary())\n",
    "print(st) #override __str__"
   ]
  },
  {
   "cell_type": "code",
   "execution_count": 35,
   "metadata": {
    "scrolled": true
   },
   "outputs": [
    {
     "name": "stdout",
     "output_type": "stream",
     "text": [
      "Name: sayem, DOB: 1998, Height: 6.5\n",
      "Name : k, Email : gmail, Birth : 2000\n",
      "Name: kkkk, DOB: 1955, Height: 6.5\n"
     ]
    }
   ],
   "source": [
    "class teacher(person):\n",
    "    def __init__(self, name: str, birthday: int, department: str):\n",
    "        super().__init__(name, birthday)\n",
    "        self.dept = department\n",
    "\n",
    "\n",
    "person_list = [\n",
    "    person('sayem', 1998),\n",
    "    student('k', 2000, 'gmail', '64'),\n",
    "    teacher('kkkk', 1955, 'main')\n",
    "]\n",
    "\n",
    "for user in person_list:\n",
    "    print(user.get_summary())\n",
    "    # print(user.get_name())"
   ]
  },
  {
   "cell_type": "code",
   "execution_count": 37,
   "metadata": {},
   "outputs": [
    {
     "name": "stdout",
     "output_type": "stream",
     "text": [
      "janina\n"
     ]
    }
   ],
   "source": [
    "class plainClass:\n",
    "    pass\n",
    "\n",
    "ob = plainClass()\n",
    "\n",
    "ob.age = 65\n",
    "ob.name = 'janina'\n",
    "\n",
    "print(ob.name)"
   ]
  },
  {
   "cell_type": "markdown",
   "metadata": {},
   "source": [
    "# Zulkarnine Mahmud-4 (linked list)"
   ]
  },
  {
   "cell_type": "code",
   "execution_count": 12,
   "metadata": {},
   "outputs": [],
   "source": [
    "#linked list\n",
    "\n",
    "class Node:\n",
    "    def __init__(self, value):\n",
    "        self.next = None\n",
    "        self.prev = None\n",
    "        self.val = value\n",
    "\n",
    "class DoubleLinkedList:\n",
    "    def __init__(self):\n",
    "        self.head = None\n",
    "        self.tail = None\n",
    "        self.size = 0\n",
    "\n",
    "    def add(self, val):\n",
    "        node = Node(val)\n",
    "\n",
    "        if(self.tail is None):\n",
    "            self.head = node\n",
    "            self.tail = node\n",
    "            self.size += 1\n",
    "        else:\n",
    "            self.tail.next = node\n",
    "            node.prev = self.tail\n",
    "            self.tail = node\n",
    "            self.size += 1\n",
    "\n",
    "    def remove_node(self, node):\n",
    "        self.size -= 1\n",
    "\n",
    "        if node.prev is None:\n",
    "            self.head = node.next\n",
    "        else:\n",
    "            node.prev.next = node.next\n",
    "\n",
    "        if node.next is None:\n",
    "            self.tail = node.prev\n",
    "        else:\n",
    "            node.next.prev = node.prev\n",
    "\n",
    "    def remove(self, val):\n",
    "        node = self.head\n",
    "        while node != None:\n",
    "            if node.val==val:\n",
    "                self.remove_node(node)\n",
    "            node = node.next\n",
    "            \n",
    "    def remove_last(self):\n",
    "        if self.tail is not None:\n",
    "            self.remove_node(self.tail)\n",
    "            \n",
    "    def remove_first(self):\n",
    "        if self.head is not None:\n",
    "            self.remove_node(self.head)\n",
    "            \n",
    "    def back(self):\n",
    "        return  self.tail.val\n",
    "\n",
    "    def front(self):\n",
    "        return self.head.val\n",
    "\n",
    "    def __str__(self):\n",
    "        vals = []\n",
    "        node = self.head\n",
    "        while node is not None:\n",
    "            vals.append(node.val)\n",
    "            node = node.next\n",
    "        return f\"[{', '.join(str(val) for val in vals)}]\""
   ]
  },
  {
   "cell_type": "code",
   "execution_count": 13,
   "metadata": {},
   "outputs": [
    {
     "name": "stdout",
     "output_type": "stream",
     "text": [
      "[24, 1, 4, 4, 1, 4, 65]\n",
      "7\n",
      "[24, 1, 1, 65]\n",
      "4\n",
      "[24, 1, 1]\n",
      "3\n",
      "[1, 1]\n",
      "2\n"
     ]
    }
   ],
   "source": [
    "mylist = DoubleLinkedList()\n",
    "\n",
    "mylist.add(24)\n",
    "mylist.add(1)\n",
    "mylist.add(4)\n",
    "mylist.add(4)\n",
    "mylist.add(1)\n",
    "mylist.add(4)\n",
    "mylist.add(65)\n",
    "\n",
    "print(mylist)\n",
    "print(mylist.size)\n",
    "\n",
    "mylist.remove(4)\n",
    "print(mylist)\n",
    "print(mylist.size)\n",
    "\n",
    "mylist.remove_last()\n",
    "print(mylist)\n",
    "print(mylist.size)\n",
    "\n",
    "mylist.remove_first()\n",
    "print(mylist)\n",
    "print(mylist.size)"
   ]
  },
  {
   "cell_type": "markdown",
   "metadata": {},
   "source": [
    "# Zulkarnine Mahmud-5 (stack)"
   ]
  },
  {
   "cell_type": "code",
   "execution_count": 14,
   "metadata": {
    "scrolled": true
   },
   "outputs": [
    {
     "name": "stdout",
     "output_type": "stream",
     "text": [
      "5\n",
      "3\n",
      "2\n",
      "5\n"
     ]
    }
   ],
   "source": [
    "class Stack():\n",
    "    def __init__(self):\n",
    "        self.__list = DoubleLinkedList()\n",
    "\n",
    "    def push(self, val):\n",
    "        self.__list.add(val)\n",
    "\n",
    "    def pop(self):\n",
    "        val = self.__list.back()\n",
    "        self.__list.remove_last() #stack using linked list\n",
    "        return  val\n",
    "\n",
    "    def is_empty(self):\n",
    "        return self.__list.size==0\n",
    "\n",
    "    def peek(self):\n",
    "        return self.__list.back()\n",
    "\n",
    "    def __len__(self):\n",
    "        return self.__list.size\n",
    "\n",
    "s = Stack()\n",
    "\n",
    "s.push(1)\n",
    "s.push(5)\n",
    "print(s.peek())\n",
    "\n",
    "s.push(2)\n",
    "print(len(s))\n",
    "\n",
    "s.pop()\n",
    "print(len(s))\n",
    "print(s.peek())\n"
   ]
  },
  {
   "cell_type": "markdown",
   "metadata": {},
   "source": [
    "# queue()"
   ]
  },
  {
   "cell_type": "code",
   "execution_count": 15,
   "metadata": {},
   "outputs": [
    {
     "name": "stdout",
     "output_type": "stream",
     "text": [
      "4\n",
      "1\n",
      "3\n",
      "2\n"
     ]
    }
   ],
   "source": [
    "from collections import deque\n",
    "\n",
    "class queue:\n",
    "    def __init__(self):\n",
    "        self.__list = DoubleLinkedList()\n",
    "\n",
    "    def enque(self, val):\n",
    "        self.__list.add(val)\n",
    "    def deque(self):\n",
    "        val = self.__list.front()\n",
    "        self.__list.remove_first()\n",
    "        return  val\n",
    "    def front(self):\n",
    "        return self.__list.front()\n",
    "    def __len__(self):\n",
    "        return self.__list.size\n",
    "\n",
    "q = queue()\n",
    "\n",
    "q.enque(1)\n",
    "q.enque(2)\n",
    "q.enque(10)\n",
    "q.enque(5)\n",
    "\n",
    "print(len(q))\n",
    "print(q.front())\n",
    "\n",
    "q.deque()\n",
    "\n",
    "print(len(q))\n",
    "print(q.front())"
   ]
  },
  {
   "cell_type": "markdown",
   "metadata": {},
   "source": [
    "# Binary Tree"
   ]
  },
  {
   "cell_type": "code",
   "execution_count": 16,
   "metadata": {},
   "outputs": [],
   "source": [
    "\"\"\"\n",
    "Printer Utility to print a binary tree like a tree.\n",
    "Can print a binary tree whose root node has at least the following properties.\n",
    "node.left    # left child\n",
    "node.right   # right child\n",
    "node.val     # value of the node\n",
    "\"\"\"\n",
    "\n",
    "\n",
    "class NodePrintData:\n",
    "    def __init__(self, lines: list, root_position, root_len):\n",
    "        self.lines = lines\n",
    "        self.root_position = root_position\n",
    "        self.root_len = root_len\n",
    "        self.max_width = 0 if len(lines) == 0 else max([len(line) for line in self.lines])\n",
    "        self.height = len(self.lines)\n",
    "\n",
    "\n",
    "class BinaryTreePrinter:\n",
    "    def __init__(self, branch_line=\".\", left_node_line=\"/\", right_node_line=\"\\\\\", extra_padding=1):\n",
    "        self.branch_line = branch_line\n",
    "        self.left_node_line = left_node_line\n",
    "        self.right_node_line = right_node_line\n",
    "        self.extra_padding = extra_padding\n",
    "\n",
    "    def __treeify(self, node):\n",
    "        if node is None:\n",
    "            return NodePrintData([], 0, 0)\n",
    "\n",
    "        val = f\"{node.val}\"\n",
    "        left_node_data = self.__treeify(node.left)\n",
    "        right_node_data = self.__treeify(node.right)\n",
    "        lines = []\n",
    "        first_line = \"\"\n",
    "        second_line = \"\"\n",
    "        len_before_val = 0\n",
    "        if left_node_data.max_width > 0:\n",
    "            left_root_end = left_node_data.root_len + left_node_data.root_position\n",
    "            branch_len = left_node_data.max_width - (left_node_data.root_position + left_node_data.root_len)\n",
    "            first_line += \" \" * (left_root_end + 1)\n",
    "            first_line += self.branch_line * (branch_len + self.extra_padding)\n",
    "            len_before_val = len(first_line)\n",
    "            second_line += \" \" * left_root_end + self.left_node_line\n",
    "            second_line += \" \" * (len_before_val - len(second_line))\n",
    "\n",
    "        first_line += val\n",
    "        left_padding = \"\" if right_node_data.max_width == 0 else \" \" * (len(val) + 1 + self.extra_padding)\n",
    "        if right_node_data.max_width > 0:\n",
    "            first_line += self.branch_line * (right_node_data.root_position + self.extra_padding)\n",
    "            second_line += \" \" * (right_node_data.root_position + len(val) + self.extra_padding) + self.right_node_line\n",
    "\n",
    "        lines.append(first_line)\n",
    "        lines.append(second_line)\n",
    "        for i in range(max(left_node_data.height, right_node_data.height)):\n",
    "            if i < left_node_data.height and i < right_node_data.height:\n",
    "                left_line: str = left_node_data.lines[i]\n",
    "                right_line: str = right_node_data.lines[i]\n",
    "            elif i < left_node_data.height:\n",
    "                left_line = left_node_data.lines[i]\n",
    "                right_line = \"\"\n",
    "            else:\n",
    "                right_line = right_node_data.lines[i]\n",
    "                left_line = \"\"\n",
    "            lines.append(\n",
    "                \"{:<{l_width}}{}{:<{r_width}}\".format(left_line, left_padding, right_line, l_width=len_before_val,\n",
    "                                                      r_width=right_node_data.max_width))\n",
    "        return NodePrintData(lines, len_before_val, len(val))\n",
    "\n",
    "    def print_node(self, root_node):\n",
    "        node_data = self.__treeify(root_node)\n",
    "        for line in node_data.lines:\n",
    "            print(line)\n",
    "\n",
    "    def get_tree_string(self, root_node):\n",
    "        node_data = self.__treeify(root_node)\n",
    "        return \"\\n\".join(node_data.lines)"
   ]
  },
  {
   "cell_type": "code",
   "execution_count": 17,
   "metadata": {},
   "outputs": [
    {
     "name": "stdout",
     "output_type": "stream",
     "text": [
      "     ....a....\n",
      "    /         \\\n",
      "  .b.         .c.  \n",
      " /   \\       /   \\ \n",
      "a     b     c     c\n",
      "                   \n"
     ]
    }
   ],
   "source": [
    "class TreeNode:\n",
    "    def __init__(self, value):\n",
    "        self.left = None\n",
    "        self.right = None\n",
    "        self.val = value\n",
    "\n",
    "class BinaryTree:\n",
    "    def __init__(self):\n",
    "        self.root = None\n",
    "\n",
    "    def insert(self, val):\n",
    "        if self.root is None:\n",
    "            self.root = TreeNode(val)\n",
    "        else:\n",
    "            q = queue()\n",
    "            q.enque(self.root)\n",
    "\n",
    "            while True:\n",
    "                ck = q.deque()\n",
    "\n",
    "                if ck.left is None:\n",
    "                    ck.left = TreeNode(val)\n",
    "                    return\n",
    "                elif ck.right is None:\n",
    "                    ck.right = TreeNode(val)\n",
    "                    return\n",
    "                else:\n",
    "                    q.enque(ck.left)\n",
    "                    q.enque(ck.right)\n",
    "    def __str__(self):\n",
    "        tree_printer = BinaryTreePrinter()\n",
    "        return tree_printer.get_tree_string(self.root)\n",
    "\n",
    "tree = BinaryTree()\n",
    "\n",
    "tree.insert('a')\n",
    "tree.insert('b')\n",
    "tree.insert('c')\n",
    "tree.insert('a')\n",
    "tree.insert('b')\n",
    "tree.insert('c')\n",
    "tree.insert('c')\n",
    "\n",
    "print(tree)"
   ]
  },
  {
   "cell_type": "markdown",
   "metadata": {},
   "source": [
    "# Binary Search Tree"
   ]
  },
  {
   "cell_type": "code",
   "execution_count": 20,
   "metadata": {},
   "outputs": [
    {
     "name": "stdout",
     "output_type": "stream",
     "text": [
      "  ..........6.\n",
      " /            \\\n",
      "1.             7\n",
      "  \\             \n",
      "   2....        \n",
      "        \\       \n",
      "        .4      \n",
      "       /        \n",
      "      3         \n",
      "                \n",
      "1 2 3 4 6 7 \n",
      "True\n",
      "False\n"
     ]
    }
   ],
   "source": [
    "# from print_binary_tree import BinaryTreePrinter\n",
    "# from stack import Stack\n",
    "\n",
    "class TreeNode:\n",
    "    def __init__(self, value):\n",
    "        self.left = None\n",
    "        self.right = None\n",
    "        self.val = value\n",
    "\n",
    "class BST:\n",
    "    def __init__(self):\n",
    "        self.root = None\n",
    "\n",
    "    def __insert_value(self, node, value):\n",
    "        if node is None: return\n",
    "        if node.val == value: return\n",
    "        elif node.val > value:\n",
    "            if node.left is None:\n",
    "                node.left = TreeNode(value)\n",
    "                return\n",
    "            else: self.__insert_value(node.left, value)\n",
    "        else:\n",
    "            if node.right is None:\n",
    "                node.right = TreeNode(value)\n",
    "                return\n",
    "            else : self.__insert_value(node.right, value)\n",
    "\n",
    "    def insert(self, val):\n",
    "        if self.root is None:\n",
    "            self.root = TreeNode(val)\n",
    "        else:\n",
    "            self.__insert_value(self.root, val)\n",
    "\n",
    "    def __str__(self):\n",
    "        tree_print = BinaryTreePrinter()\n",
    "        return tree_print.get_tree_string(self.root)\n",
    "\n",
    "    def __in_order(self, node):\n",
    "        if node is None: return\n",
    "        self.__in_order(node.left)\n",
    "        print(node.val, end=' ')\n",
    "        self.__in_order(node.right)\n",
    "\n",
    "    def in_order(self):\n",
    "        self.__in_order(self.root)\n",
    "\n",
    "    def contains(self, val):\n",
    "        st = Stack()\n",
    "        st.push(self.root)\n",
    "\n",
    "        while not st.is_empty():\n",
    "            node = st.pop()\n",
    "\n",
    "            if node.val == val: return  True\n",
    "            elif val < node.val:\n",
    "                if node.left is not None: st.push(node.left)\n",
    "            else:\n",
    "                if node.right is not None: st.push(node.right)\n",
    "        return False\n",
    "\n",
    "\n",
    "tree = BST()\n",
    "\n",
    "tree.insert(6)\n",
    "tree.insert(7)\n",
    "tree.insert(1)\n",
    "tree.insert(2)\n",
    "tree.insert(4)\n",
    "tree.insert(6)\n",
    "tree.insert(3)\n",
    "\n",
    "print(tree)\n",
    "tree.in_order()\n",
    "\n",
    "print()\n",
    "print(tree.contains(4))\n",
    "print(tree.contains(10))"
   ]
  },
  {
   "cell_type": "code",
   "execution_count": 9,
   "metadata": {},
   "outputs": [
    {
     "ename": "IndexError",
     "evalue": "too many indices for array: array is 1-dimensional, but 2 were indexed",
     "output_type": "error",
     "traceback": [
      "\u001b[1;31m---------------------------------------------------------------------------\u001b[0m",
      "\u001b[1;31mIndexError\u001b[0m                                Traceback (most recent call last)",
      "\u001b[1;32m<ipython-input-9-14632284bfbb>\u001b[0m in \u001b[0;36m<module>\u001b[1;34m\u001b[0m\n\u001b[0;32m      2\u001b[0m \u001b[0ma\u001b[0m \u001b[1;33m=\u001b[0m \u001b[0mnp\u001b[0m\u001b[1;33m.\u001b[0m\u001b[0marray\u001b[0m\u001b[1;33m(\u001b[0m\u001b[1;33m[\u001b[0m\u001b[1;36m1\u001b[0m\u001b[1;33m,\u001b[0m \u001b[1;36m2\u001b[0m\u001b[1;33m,\u001b[0m \u001b[1;36m3\u001b[0m\u001b[1;33m]\u001b[0m\u001b[1;33m)\u001b[0m\u001b[1;33m\u001b[0m\u001b[1;33m\u001b[0m\u001b[0m\n\u001b[0;32m      3\u001b[0m \u001b[0mi\u001b[0m \u001b[1;33m=\u001b[0m \u001b[1;36m9\u001b[0m\u001b[1;33m\u001b[0m\u001b[1;33m\u001b[0m\u001b[0m\n\u001b[1;32m----> 4\u001b[1;33m \u001b[0ma\u001b[0m\u001b[1;33m[\u001b[0m\u001b[0mi\u001b[0m\u001b[1;33m,\u001b[0m \u001b[1;36m0\u001b[0m\u001b[1;33m]\u001b[0m\u001b[1;33m\u001b[0m\u001b[1;33m\u001b[0m\u001b[0m\n\u001b[0m\u001b[0;32m      5\u001b[0m \u001b[1;33m\u001b[0m\u001b[0m\n\u001b[0;32m      6\u001b[0m \u001b[1;33m\u001b[0m\u001b[0m\n",
      "\u001b[1;31mIndexError\u001b[0m: too many indices for array: array is 1-dimensional, but 2 were indexed"
     ]
    }
   ],
   "source": [
    "import numpy as np\n",
    "a = np.array([1, 2, 3])\n",
    "i = 9\n",
    "a[i, 0]\n",
    "\n",
    "\n",
    "\n",
    "\n",
    "\n",
    "\n"
   ]
  }
 ],
 "metadata": {
  "kernelspec": {
   "display_name": "Python 3",
   "language": "python",
   "name": "python3"
  },
  "language_info": {
   "codemirror_mode": {
    "name": "ipython",
    "version": 3
   },
   "file_extension": ".py",
   "mimetype": "text/x-python",
   "name": "python",
   "nbconvert_exporter": "python",
   "pygments_lexer": "ipython3",
   "version": "3.7.4"
  }
 },
 "nbformat": 4,
 "nbformat_minor": 2
}
